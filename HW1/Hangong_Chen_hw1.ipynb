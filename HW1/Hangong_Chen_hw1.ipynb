{
 "cells": [
  {
   "cell_type": "markdown",
   "source": [
    "Problem 1"
   ],
   "metadata": {
    "collapsed": false
   }
  },
  {
   "cell_type": "code",
   "execution_count": 1,
   "metadata": {
    "collapsed": true,
    "ExecuteTime": {
     "end_time": "2025-02-08T06:10:07.456808Z",
     "start_time": "2025-02-08T06:10:07.449195Z"
    }
   },
   "outputs": [
    {
     "name": "stdout",
     "output_type": "stream",
     "text": [
      "       January  2025     \n",
      "Su  Mo  Tu  We  Th  Fr  Sa\n",
      "             1   2   3   4  \n",
      " 5   6   7   8   9  10  11  \n",
      "12  13  14  15  16  17  18  \n",
      "19  20  21  22  23  24  25  \n",
      "26  27  28  29  30  31  "
     ]
    }
   ],
   "source": [
    "#print headlines\n",
    "print(\"       January  2025     \")\n",
    "print(\"Su  Mo  Tu  We  Th  Fr  Sa\")\n",
    "#initialize parameters\n",
    "start=4\n",
    "day=30\n",
    "date=0\n",
    "#manipulate each spaces in the calendar\n",
    "for space in range(1,35):\n",
    "    #print space before Jan 1st\n",
    "    if space<start:\n",
    "        print(\"    \",end=\"\")\n",
    "    #print date\n",
    "    elif space>=start and date<=day:\n",
    "        date+=1\n",
    "        #if date less than 10, print an extra space before the number, otherwise print date directly\n",
    "        if date>=10:\n",
    "            print(date,\" \",end=\"\")\n",
    "        else:\n",
    "            print(\"\",date,\" \",end=\"\")\n",
    "    #if this is the 7,14,28,35th space, start another line\n",
    "    if space%7==0:\n",
    "        print(\"\")"
   ]
  },
  {
   "cell_type": "markdown",
   "source": [
    "Problem 2"
   ],
   "metadata": {
    "collapsed": false
   }
  },
  {
   "cell_type": "code",
   "execution_count": 2,
   "outputs": [
    {
     "name": "stdout",
     "output_type": "stream",
     "text": [
      "4\n",
      "0\n",
      "2\n",
      "0\n",
      "5\n",
      "2\n",
      "0\n",
      "2\n"
     ]
    }
   ],
   "source": [
    "\n",
    "# ask the user for a positive integer\n",
    "num = int(input(\"Enter a positive integer: \"))# default: 20250204\n",
    "while num > 0:\n",
    "    digit = num % 10  # extract the last digit\n",
    "    print(digit)       # print the digit\n",
    "    num //= 10         # Remove the last digit"
   ],
   "metadata": {
    "collapsed": false,
    "ExecuteTime": {
     "end_time": "2025-02-08T06:10:28.922609Z",
     "start_time": "2025-02-08T06:10:16.870545Z"
    }
   }
  },
  {
   "cell_type": "markdown",
   "source": [
    "Problem 3"
   ],
   "metadata": {
    "collapsed": false
   }
  },
  {
   "cell_type": "code",
   "execution_count": 3,
   "outputs": [
    {
     "name": "stdout",
     "output_type": "stream",
     "text": [
      "3\n",
      "10\n",
      "5\n",
      "16\n",
      "8\n",
      "4\n",
      "2\n",
      "1\n"
     ]
    }
   ],
   "source": [
    "# Ask the user for a positive integer\n",
    "num=input(\"Enter a positive integer: \")# default: 3\n",
    "# Convert str to int\n",
    "num=int(num)\n",
    "# stop processing when num=1\n",
    "while num!=1:\n",
    "    print(num)\n",
    "    # devide num by 2 when num is even\n",
    "    if num%2==0:\n",
    "        num//=2\n",
    "    else:\n",
    "    # mulitiply num by 3 and plus 1 when num is odd\n",
    "        num*=3\n",
    "        num+=1\n",
    "print(num)"
   ],
   "metadata": {
    "collapsed": false,
    "ExecuteTime": {
     "end_time": "2025-02-08T06:10:32.307307Z",
     "start_time": "2025-02-08T06:10:31.128415Z"
    }
   }
  },
  {
   "cell_type": "markdown",
   "source": [
    "Problem 4"
   ],
   "metadata": {
    "collapsed": false
   }
  },
  {
   "cell_type": "code",
   "execution_count": 4,
   "outputs": [
    {
     "name": "stdout",
     "output_type": "stream",
     "text": [
      "sihT\n",
      "si\n",
      "506LMSM\n",
      "emocleW\n",
      "ot\n",
      "eht\n",
      "ssalc\n"
     ]
    }
   ],
   "source": [
    "# Ask user for a string\n",
    "Str=list(input(\"Enter a string:\"))#default: #This is MSML605. Welcome$@ to the class!\n",
    "# Initialize output list and word string\n",
    "output=[]\n",
    "word=''\n",
    "for char in Str:\n",
    "    if char.islower() or char.isupper() or char.isdigit():#if this char is a letter or digit, add it into word\n",
    "        word+=char\n",
    "    if char.isspace():\n",
    "        output.append(word)# if this char is space, add word into output list and start a new word\n",
    "        word=''\n",
    "output.append(word)# after the loop ends, add the last word into output list\n",
    "for elem in output:\n",
    "    elem=elem[::-1]# reverse the current element(word)\n",
    "    print(elem)"
   ],
   "metadata": {
    "collapsed": false,
    "ExecuteTime": {
     "end_time": "2025-02-08T06:10:46.076346Z",
     "start_time": "2025-02-08T06:10:44.658157Z"
    }
   }
  },
  {
   "cell_type": "markdown",
   "source": [
    "Problem 5"
   ],
   "metadata": {
    "collapsed": false
   }
  },
  {
   "cell_type": "code",
   "execution_count": 9,
   "outputs": [
    {
     "name": "stdout",
     "output_type": "stream",
     "text": [
      "24\n"
     ]
    }
   ],
   "source": [
    "Str=list(input(\"Enter a string:\"))#default: #This is MSML605. Welcome$@ to the class!\n",
    "aim=input(\"Enter a character:\")#default: e\n",
    "k=0\n",
    "index=[]\n",
    "for i,char in enumerate(Str):\n",
    "    if char==aim:#if the current character is the aim character, save its index and k equal to k plus 1\n",
    "        k+=1\n",
    "        index.append(i+1)\n",
    "k=int((k+1)/2)#calculate k according to the problem description\n",
    "print(index[k-1]-1)#print the corresponding index of k"
   ],
   "metadata": {
    "collapsed": false,
    "ExecuteTime": {
     "end_time": "2025-02-08T06:11:37.478811Z",
     "start_time": "2025-02-08T06:11:34.333036Z"
    }
   }
  },
  {
   "cell_type": "markdown",
   "source": [
    "Problem 6"
   ],
   "metadata": {
    "collapsed": false
   }
  },
  {
   "cell_type": "markdown",
   "source": [],
   "metadata": {
    "collapsed": false
   }
  },
  {
   "cell_type": "code",
   "execution_count": 30,
   "outputs": [
    {
     "name": "stdout",
     "output_type": "stream",
     "text": [
      "mean: [2.5, 2.5, 2.5]\n",
      "standard deviation: [2.14, 2.14, 2.14]\n"
     ]
    }
   ],
   "source": [
    "list=[[2,2,2],[3,3,3],[4,4,4],[6,0,0],[0,6,0],[0,0,6]]#define the default list\n",
    "def findMean(list):\n",
    "    mean=[]\n",
    "    for j in range(len(list[0])):#traverse each dimension\n",
    "        temp=0\n",
    "        for i in range(len(list)):#traverse each point\n",
    "            temp+=list[i][j]\n",
    "        mean.append(temp/len(list))#calculate and save the means\n",
    "    return mean\n",
    "def findsqrt(num):# a simple function for calculate sqrt for a given num (not very precise, but enough)\n",
    "    temp=0.001\n",
    "    while temp*temp<num:\n",
    "        temp+=0.001\n",
    "    return temp\n",
    "def findStd(list):\n",
    "    mean=findMean(list)#calculate mean\n",
    "    Std=[]\n",
    "    for j in range(len(list[0])):#traverse each dimension\n",
    "        temp=0\n",
    "        for i in range(len(list)):#traverse each point\n",
    "            temp+=(list[i][j]-mean[j])*(list[i][j]-mean[j])\n",
    "        Std.append(int(findsqrt(temp/len(list))*100)/100)#calculate and save the Stds and adjust precisions\n",
    "    return Std\n",
    "print('mean:',findMean(list))\n",
    "print('standard deviation:',findStd(list))"
   ],
   "metadata": {
    "collapsed": false,
    "ExecuteTime": {
     "end_time": "2025-02-08T15:40:21.794136Z",
     "start_time": "2025-02-08T15:40:21.785394Z"
    }
   }
  },
  {
   "cell_type": "code",
   "execution_count": 26,
   "outputs": [
    {
     "name": "stdout",
     "output_type": "stream",
     "text": [
      "1965\n",
      "The most popular boy name in 1950 is James with 0.047336%\n",
      "The most popular girl name in 1950 is Linda with 0.045724%\n"
     ]
    }
   ],
   "source": [
    "import csv\n",
    "def find_most_popular_names(year):\n",
    "    #validate year input\n",
    "    try:\n",
    "        year = int(year)\n",
    "    except ValueError:\n",
    "        print(\"Invalid year. Please enter a valid year.\")\n",
    "        return\n",
    "    #read data from CSV file\n",
    "    data = []\n",
    "    with open('baby-names-data.txt', newline='') as csvfile:\n",
    "        reader = csv.reader(csvfile)\n",
    "        next(reader)  #skip header\n",
    "        for row in reader:\n",
    "            data.append(row)\n",
    "    #filter data for the given year\n",
    "    year_data = [row for row in data if int(row[0]) == year]\n",
    "    print(row[0])\n",
    "    if not year_data:\n",
    "        print(f\"No data found for year {year}.\")\n",
    "        return\n",
    "    #initialize varibles to track most popular names\n",
    "    max_percent_boy = 0.0\n",
    "    max_percent_girl = 0.0\n",
    "    popular_boy_name = \"\"\n",
    "    popular_girl_name = \"\"\n",
    "    #iterate through filtered data to find most popular names\n",
    "    for row in year_data:\n",
    "        if row[3] == 'boy':  #boy's name\n",
    "            if float(row[2]) > max_percent_boy:\n",
    "                max_percent_boy = float(row[2])\n",
    "                popular_boy_name = row[1]\n",
    "        elif row[3] == 'girl':  # Girl's name\n",
    "            if float(row[2]) > max_percent_girl:\n",
    "                max_percent_girl = float(row[2])\n",
    "                popular_girl_name = row[1]\n",
    "    #print results\n",
    "    if popular_boy_name:\n",
    "        print(f\"The most popular boy name in {year} is {popular_boy_name} with {max_percent_boy}%\")\n",
    "    else:\n",
    "        print(f\"No data found for the most popular boy name in {year}.\")\n",
    "    if popular_girl_name:\n",
    "        print(f\"The most popular girl name in {year} is {popular_girl_name} with {max_percent_girl}%\")\n",
    "    else:\n",
    "        print(f\"No data found for the most popular girl name in {year}.\")\n",
    "# Example usage:\n",
    "year_input = input(\"Enter a year (1880-2008): \")\n",
    "find_most_popular_names(year_input)\n"
   ],
   "metadata": {
    "collapsed": false,
    "ExecuteTime": {
     "end_time": "2025-02-08T15:36:21.471800Z",
     "start_time": "2025-02-08T15:36:18.564597Z"
    }
   }
  }
 ],
 "metadata": {
  "kernelspec": {
   "name": "lin",
   "language": "python",
   "display_name": "lin"
  },
  "language_info": {
   "codemirror_mode": {
    "name": "ipython",
    "version": 2
   },
   "file_extension": ".py",
   "mimetype": "text/x-python",
   "name": "python",
   "nbconvert_exporter": "python",
   "pygments_lexer": "ipython2",
   "version": "2.7.6"
  }
 },
 "nbformat": 4,
 "nbformat_minor": 0
}
