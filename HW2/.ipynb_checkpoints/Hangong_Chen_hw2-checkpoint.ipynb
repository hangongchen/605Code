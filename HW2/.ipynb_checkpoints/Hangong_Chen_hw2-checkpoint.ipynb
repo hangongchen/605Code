{
 "cells": [
  {
   "cell_type": "code",
   "execution_count": null,
   "metadata": {},
   "outputs": [],
   "source": [
    "import pandas as pd\n",
    "\n",
    "df=pd.read_csv('Titanic.csv')\n",
    "df['sex']=df['sex'].replace('male',0)\n",
    "df['sex']=df['sex'].replace('female',1)"
   ]
  },
  {
   "cell_type": "code",
   "execution_count": 221,
   "metadata": {
    "ExecuteTime": {
     "end_time": "2025-02-21T21:56:33.270272Z",
     "start_time": "2025-02-21T21:56:33.268900Z"
    }
   },
   "outputs": [],
   "source": [
    "import numpy as np"
   ]
  },
  {
   "cell_type": "code",
   "execution_count": null,
   "metadata": {},
   "outputs": [],
   "source": [
    "male_avg=np.mean(df.loc[df['sex']==0,'age'].dropna())\n",
    "female_avg=np.mean(df.loc[df['sex']==1,'age'].dropna())"
   ]
  },
  {
   "cell_type": "code",
   "execution_count": 223,
   "metadata": {
    "ExecuteTime": {
     "end_time": "2025-02-21T21:56:33.289602Z",
     "start_time": "2025-02-21T21:56:33.276400Z"
    }
   },
   "outputs": [],
   "source": [
    "df.loc[(df['sex']==0) & (df['age'].isna()),'age']=male_avg\n",
    "df.loc[(df['sex']==1) & (df['age'].isna()),'age']=female_avg"
   ]
  },
  {
   "cell_type": "code",
   "execution_count": 224,
   "metadata": {
    "ExecuteTime": {
     "end_time": "2025-02-21T21:56:33.290162Z",
     "start_time": "2025-02-21T21:56:33.280166Z"
    }
   },
   "outputs": [
    {
     "name": "stdout",
     "output_type": "stream",
     "text": [
      "Mean male age is: 30.58522796352584\n",
      "Mean female age is: 28.68708762886598\n",
      "The age of the 41st passenger Dr. Arthur Jackson Brewe is: 30.58522796352584\n"
     ]
    }
   ],
   "source": [
    "print('Mean male age is:',male_avg)\n",
    "print('Mean female age is:',female_avg)\n",
    "print('The age of the 41st passenger Dr. Arthur Jackson Brewe is:',df.at[40,'age'])"
   ]
  },
  {
   "cell_type": "code",
   "execution_count": 225,
   "metadata": {
    "ExecuteTime": {
     "end_time": "2025-02-21T21:56:33.290308Z",
     "start_time": "2025-02-21T21:56:33.283944Z"
    }
   },
   "outputs": [],
   "source": [
    "first_class=np.mean(df.loc[df['pclass']==1,'fare'].dropna())\n",
    "second_class=np.mean(df.loc[df['pclass']==2,'fare'].dropna())\n",
    "third_class=np.mean(df.loc[df['pclass']==3,'fare'].dropna())"
   ]
  },
  {
   "cell_type": "code",
   "execution_count": 226,
   "metadata": {
    "ExecuteTime": {
     "end_time": "2025-02-21T21:56:33.290363Z",
     "start_time": "2025-02-21T21:56:33.288337Z"
    }
   },
   "outputs": [],
   "source": [
    "df.loc[(df['pclass']==1) & (df['fare'].isna()),'fare']=first_class\n",
    "df.loc[(df['pclass']==2) & (df['fare'].isna()),'fare']=second_class\n",
    "df.loc[(df['pclass']==3) & (df['fare'].isna()),'fare']=third_class"
   ]
  },
  {
   "cell_type": "code",
   "execution_count": 227,
   "metadata": {
    "ExecuteTime": {
     "end_time": "2025-02-21T21:56:33.293039Z",
     "start_time": "2025-02-21T21:56:33.291512Z"
    }
   },
   "outputs": [
    {
     "name": "stdout",
     "output_type": "stream",
     "text": [
      "The mean price of the first class: 87.50899164086688\n",
      "The mean price of the second class: 21.179196389891697\n",
      "The mean price of the third class: 13.302888700564973\n",
      "The ticket fare of the 1226 th passenger Mr. Thomas Storey is: 13.302888700564973\n"
     ]
    }
   ],
   "source": [
    "print('The mean price of the first class:',first_class)\n",
    "print('The mean price of the second class:',second_class)\n",
    "print('The mean price of the third class:',third_class)\n",
    "print('The ticket fare of the 1226 th passenger Mr. Thomas Storey is:',df.at[1225,'fare'])"
   ]
  },
  {
   "cell_type": "code",
   "execution_count": 228,
   "metadata": {
    "ExecuteTime": {
     "end_time": "2025-02-21T21:56:33.296589Z",
     "start_time": "2025-02-21T21:56:33.295603Z"
    }
   },
   "outputs": [],
   "source": [
    "def z_Norm(x):\n",
    "    u=np.mean(x)\n",
    "    theta=np.std(x)\n",
    "    Z=(x-u)/theta\n",
    "    return Z"
   ]
  },
  {
   "cell_type": "code",
   "execution_count": 229,
   "metadata": {
    "ExecuteTime": {
     "end_time": "2025-02-21T21:56:33.300039Z",
     "start_time": "2025-02-21T21:56:33.298299Z"
    }
   },
   "outputs": [
    {
     "name": "stdout",
     "output_type": "stream",
     "text": [
      "Normalized ticket price and age values for the first passenger: 3.442579170469819 -0.07058969559145088\n"
     ]
    }
   ],
   "source": [
    "fare=z_Norm(df['fare'])\n",
    "df['fare']=fare\n",
    "age=z_Norm(df['age'])\n",
    "df['age']=age\n",
    "print(\"Normalized ticket price and age values for the first passenger:\"\n",
    "      ,df.at[0,'fare'],\n",
    "      df.at[0,'age'])"
   ]
  },
  {
   "cell_type": "code",
   "execution_count": 230,
   "metadata": {
    "ExecuteTime": {
     "end_time": "2025-02-21T21:56:33.305097Z",
     "start_time": "2025-02-21T21:56:33.303751Z"
    }
   },
   "outputs": [
    {
     "data": {
      "text/html": [
       "<div>\n",
       "<style scoped>\n",
       "    .dataframe tbody tr th:only-of-type {\n",
       "        vertical-align: middle;\n",
       "    }\n",
       "\n",
       "    .dataframe tbody tr th {\n",
       "        vertical-align: top;\n",
       "    }\n",
       "\n",
       "    .dataframe thead th {\n",
       "        text-align: right;\n",
       "    }\n",
       "</style>\n",
       "<table border=\"1\" class=\"dataframe\">\n",
       "  <thead>\n",
       "    <tr style=\"text-align: right;\">\n",
       "      <th></th>\n",
       "      <th>pclass</th>\n",
       "      <th>sex</th>\n",
       "      <th>age</th>\n",
       "      <th>fare</th>\n",
       "    </tr>\n",
       "  </thead>\n",
       "  <tbody>\n",
       "    <tr>\n",
       "      <th>0</th>\n",
       "      <td>1</td>\n",
       "      <td>1</td>\n",
       "      <td>-0.070590</td>\n",
       "      <td>3.442579</td>\n",
       "    </tr>\n",
       "    <tr>\n",
       "      <th>1</th>\n",
       "      <td>1</td>\n",
       "      <td>0</td>\n",
       "      <td>-2.249994</td>\n",
       "      <td>2.286641</td>\n",
       "    </tr>\n",
       "    <tr>\n",
       "      <th>2</th>\n",
       "      <td>1</td>\n",
       "      <td>1</td>\n",
       "      <td>-2.166170</td>\n",
       "      <td>2.286641</td>\n",
       "    </tr>\n",
       "    <tr>\n",
       "      <th>3</th>\n",
       "      <td>1</td>\n",
       "      <td>0</td>\n",
       "      <td>0.007024</td>\n",
       "      <td>2.286641</td>\n",
       "    </tr>\n",
       "    <tr>\n",
       "      <th>4</th>\n",
       "      <td>1</td>\n",
       "      <td>1</td>\n",
       "      <td>-0.381046</td>\n",
       "      <td>2.286641</td>\n",
       "    </tr>\n",
       "    <tr>\n",
       "      <th>...</th>\n",
       "      <td>...</td>\n",
       "      <td>...</td>\n",
       "      <td>...</td>\n",
       "      <td>...</td>\n",
       "    </tr>\n",
       "    <tr>\n",
       "      <th>1304</th>\n",
       "      <td>3</td>\n",
       "      <td>1</td>\n",
       "      <td>-1.195994</td>\n",
       "      <td>-0.363984</td>\n",
       "    </tr>\n",
       "    <tr>\n",
       "      <th>1305</th>\n",
       "      <td>3</td>\n",
       "      <td>1</td>\n",
       "      <td>-0.094876</td>\n",
       "      <td>-0.363984</td>\n",
       "    </tr>\n",
       "    <tr>\n",
       "      <th>1306</th>\n",
       "      <td>3</td>\n",
       "      <td>0</td>\n",
       "      <td>-0.264625</td>\n",
       "      <td>-0.503754</td>\n",
       "    </tr>\n",
       "    <tr>\n",
       "      <th>1307</th>\n",
       "      <td>3</td>\n",
       "      <td>0</td>\n",
       "      <td>-0.225818</td>\n",
       "      <td>-0.503754</td>\n",
       "    </tr>\n",
       "    <tr>\n",
       "      <th>1308</th>\n",
       "      <td>3</td>\n",
       "      <td>0</td>\n",
       "      <td>-0.070590</td>\n",
       "      <td>-0.491187</td>\n",
       "    </tr>\n",
       "  </tbody>\n",
       "</table>\n",
       "<p>1309 rows × 4 columns</p>\n",
       "</div>"
      ],
      "text/plain": [
       "      pclass  sex       age      fare\n",
       "0          1    1 -0.070590  3.442579\n",
       "1          1    0 -2.249994  2.286641\n",
       "2          1    1 -2.166170  2.286641\n",
       "3          1    0  0.007024  2.286641\n",
       "4          1    1 -0.381046  2.286641\n",
       "...      ...  ...       ...       ...\n",
       "1304       3    1 -1.195994 -0.363984\n",
       "1305       3    1 -0.094876 -0.363984\n",
       "1306       3    0 -0.264625 -0.503754\n",
       "1307       3    0 -0.225818 -0.503754\n",
       "1308       3    0 -0.070590 -0.491187\n",
       "\n",
       "[1309 rows x 4 columns]"
      ]
     },
     "execution_count": 230,
     "metadata": {},
     "output_type": "execute_result"
    }
   ],
   "source": [
    "X=df.loc[:,['pclass','sex','age','fare']]\n",
    "X"
   ]
  },
  {
   "cell_type": "code",
   "execution_count": 231,
   "metadata": {
    "ExecuteTime": {
     "end_time": "2025-02-21T21:56:33.308360Z",
     "start_time": "2025-02-21T21:56:33.306846Z"
    }
   },
   "outputs": [
    {
     "data": {
      "text/plain": [
       "0       1\n",
       "1       1\n",
       "2       0\n",
       "3       0\n",
       "4       0\n",
       "       ..\n",
       "1304    0\n",
       "1305    0\n",
       "1306    0\n",
       "1307    0\n",
       "1308    0\n",
       "Name: survived, Length: 1309, dtype: int64"
      ]
     },
     "execution_count": 231,
     "metadata": {},
     "output_type": "execute_result"
    }
   ],
   "source": [
    "y=df.loc[:,'survived']\n",
    "y"
   ]
  },
  {
   "cell_type": "code",
   "execution_count": 232,
   "metadata": {
    "ExecuteTime": {
     "end_time": "2025-02-21T21:56:33.344443Z",
     "start_time": "2025-02-21T21:56:33.310136Z"
    }
   },
   "outputs": [
    {
     "name": "stdout",
     "output_type": "stream",
     "text": [
      "Training X set size: 1047 samples\n",
      "Testing X set size: 262 samples\n",
      "Training y set size: 1047 samples\n",
      "Testing y set size: 262 samples\n"
     ]
    }
   ],
   "source": [
    "data_num=len(df)\n",
    "train_size=int(0.8*data_num)\n",
    "random_indices=np.random.permutation(data_num)\n",
    "train_indices=random_indices[:train_size]\n",
    "test_indices=random_indices[train_size:]\n",
    "X_train=X.iloc[train_indices]\n",
    "y_train=y.iloc[train_indices]\n",
    "X_test=X.iloc[test_indices]\n",
    "y_test=y.iloc[test_indices]\n",
    "print(f\"Training X set size: {len(X_train)} samples\")\n",
    "print(f\"Testing X set size: {len(X_test)} samples\")\n",
    "print(f\"Training y set size: {len(y_train)} samples\")\n",
    "print(f\"Testing y set size: {len(y_test)} samples\")"
   ]
  },
  {
   "cell_type": "code",
   "execution_count": 241,
   "metadata": {
    "ExecuteTime": {
     "end_time": "2025-02-21T22:01:41.686145Z",
     "start_time": "2025-02-21T22:01:41.663816Z"
    }
   },
   "outputs": [
    {
     "name": "stdout",
     "output_type": "stream",
     "text": [
      "Mean test accuracy: 0.8320610687022901\n"
     ]
    }
   ],
   "source": [
    "from sklearn.linear_model import LogisticRegression\n",
    "clf=LogisticRegression(max_iter=1000)\n",
    "clf.fit(X_train,y_train)\n",
    "print(f'Mean test accuracy: {clf.score(X_test,y_test)}')"
   ]
  }
 ],
 "metadata": {
  "kernelspec": {
   "display_name": "Python 3 (ipykernel)",
   "language": "python",
   "name": "python3"
  },
  "language_info": {
   "codemirror_mode": {
    "name": "ipython",
    "version": 3
   },
   "file_extension": ".py",
   "mimetype": "text/x-python",
   "name": "python",
   "nbconvert_exporter": "python",
   "pygments_lexer": "ipython3",
   "version": "3.11.3"
  }
 },
 "nbformat": 4,
 "nbformat_minor": 1
}
