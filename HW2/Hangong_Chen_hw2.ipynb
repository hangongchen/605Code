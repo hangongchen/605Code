{
 "cells": [
  {
   "cell_type": "markdown",
   "source": [
    "Problem 1a"
   ],
   "metadata": {
    "collapsed": false
   }
  },
  {
   "cell_type": "code",
   "execution_count": 1,
   "outputs": [],
   "source": [
    "import csv\n",
    "import numpy as np\n",
    "from sklearn.linear_model import LogisticRegression"
   ],
   "metadata": {
    "collapsed": false,
    "ExecuteTime": {
     "end_time": "2025-02-28T02:04:16.154874Z",
     "start_time": "2025-02-28T02:04:15.344490Z"
    }
   }
  },
  {
   "cell_type": "code",
   "execution_count": 2,
   "outputs": [],
   "source": [
    "# Read the CSV file using csv.DictReader for easy column access\n",
    "with open('Titanic.csv', newline='', encoding='utf-8') as csvfile:\n",
    "    reader = csv.DictReader(csvfile)\n",
    "    rows = list(reader)"
   ],
   "metadata": {
    "collapsed": false,
    "ExecuteTime": {
     "end_time": "2025-02-28T02:04:16.156669Z",
     "start_time": "2025-02-28T02:04:16.151022Z"
    }
   }
  },
  {
   "cell_type": "code",
   "execution_count": 3,
   "outputs": [],
   "source": [
    "# Initialize lists for each column\n",
    "pclass_list = []\n",
    "sex_list = []\n",
    "age_list = []\n",
    "fare_list = []\n",
    "survived_list = []"
   ],
   "metadata": {
    "collapsed": false,
    "ExecuteTime": {
     "end_time": "2025-02-28T02:04:16.160820Z",
     "start_time": "2025-02-28T02:04:16.156536Z"
    }
   }
  },
  {
   "cell_type": "code",
   "execution_count": 4,
   "outputs": [
    {
     "name": "stdout",
     "output_type": "stream",
     "text": [
      "Mean male age is: 30.58522796352584\n",
      "Mean female age is: 28.68708762886598\n",
      "The age of the 41st passenger Dr. Arthur Jackson Brewe is: 30.58522796352584\n"
     ]
    }
   ],
   "source": [
    "# Iterate through each row and convert data to the appropriate types\n",
    "for row in rows:\n",
    "    # Convert pclass and survived to integers\n",
    "    pclass_list.append(int(row['pclass']))\n",
    "    survived_list.append(int(row['survived']))\n",
    "\n",
    "    # For the sex column: replace 'male' with 0 and 'female' with 1\n",
    "    sex_val = row['sex'].strip().lower()\n",
    "    if sex_val == 'male':\n",
    "        sex_list.append(0)\n",
    "    elif sex_val == 'female':\n",
    "        sex_list.append(1)\n",
    "    else:\n",
    "        sex_list.append(np.nan)\n",
    "\n",
    "    # For the age column: convert to float; if missing, use np.nan\n",
    "    age_str = row['age'].strip()\n",
    "    if age_str == '':\n",
    "        age_list.append(np.nan)\n",
    "    else:\n",
    "        try:\n",
    "            age_list.append(float(age_str))\n",
    "        except:\n",
    "            age_list.append(np.nan)\n",
    "\n",
    "    # For the fare column: convert to float; if missing, use np.nan\n",
    "    fare_str = row['fare'].strip()\n",
    "    if fare_str == '':\n",
    "        fare_list.append(np.nan)\n",
    "    else:\n",
    "        try:\n",
    "            fare_list.append(float(fare_str))\n",
    "        except:\n",
    "            fare_list.append(np.nan)\n",
    "\n",
    "# Convert the lists to numpy arrays\n",
    "pclass = np.array(pclass_list)\n",
    "sex = np.array(sex_list)\n",
    "age = np.array(age_list, dtype=float)\n",
    "fare = np.array(fare_list, dtype=float)\n",
    "survived = np.array(survived_list)\n",
    "\n",
    "# Calculate the average age of male and female passengers (ignoring missing values)\n",
    "male_avg = np.nanmean(age[sex == 0])\n",
    "female_avg = np.nanmean(age[sex == 1])\n",
    "\n",
    "# Fill missing age values with the corresponding gender's average\n",
    "age[np.isnan(age) & (sex == 0)] = male_avg\n",
    "age[np.isnan(age) & (sex == 1)] = female_avg\n",
    "\n",
    "print('Mean male age is:', male_avg)\n",
    "print('Mean female age is:', female_avg)\n",
    "# Note: the 41st passenger corresponds to index 40\n",
    "print('The age of the 41st passenger Dr. Arthur Jackson Brewe is:', age[40])"
   ],
   "metadata": {
    "collapsed": false,
    "ExecuteTime": {
     "end_time": "2025-02-28T02:04:16.167520Z",
     "start_time": "2025-02-28T02:04:16.162495Z"
    }
   }
  },
  {
   "cell_type": "markdown",
   "source": [
    "Problem 1b"
   ],
   "metadata": {
    "collapsed": false
   }
  },
  {
   "cell_type": "code",
   "execution_count": 5,
   "outputs": [
    {
     "name": "stdout",
     "output_type": "stream",
     "text": [
      "The mean price of the first class: 87.50899164086688\n",
      "The mean price of the second class: 21.179196389891697\n",
      "The mean price of the third class: 13.302888700564973\n",
      "The ticket fare of the 1226th passenger Mr. Thomas Storey is: 13.302888700564973\n"
     ]
    }
   ],
   "source": [
    "# Calculate the average fare for each class (ignoring missing values)\n",
    "first_class = np.nanmean(fare[pclass == 1])\n",
    "second_class = np.nanmean(fare[pclass == 2])\n",
    "third_class = np.nanmean(fare[pclass == 3])\n",
    "\n",
    "# Fill missing fare values with the average fare of each class\n",
    "fare[np.isnan(fare) & (pclass == 1)] = first_class\n",
    "fare[np.isnan(fare) & (pclass == 2)] = second_class\n",
    "fare[np.isnan(fare) & (pclass == 3)] = third_class\n",
    "\n",
    "print('The mean price of the first class:', first_class)\n",
    "print('The mean price of the second class:', second_class)\n",
    "print('The mean price of the third class:', third_class)\n",
    "print('The ticket fare of the 1226th passenger Mr. Thomas Storey is:', fare[1225])"
   ],
   "metadata": {
    "collapsed": false,
    "ExecuteTime": {
     "end_time": "2025-02-28T02:04:16.174415Z",
     "start_time": "2025-02-28T02:04:16.167923Z"
    }
   }
  },
  {
   "cell_type": "markdown",
   "source": [
    "Problem 1c"
   ],
   "metadata": {
    "collapsed": false
   }
  },
  {
   "cell_type": "code",
   "execution_count": 6,
   "outputs": [
    {
     "name": "stdout",
     "output_type": "stream",
     "text": [
      "Normalized ticket price and age values for the first passenger: 3.442579170469809 -0.07058969559145065\n"
     ]
    }
   ],
   "source": [
    "# Define a z-score normalization function\n",
    "def z_Norm(x):\n",
    "    u = np.mean(x)\n",
    "    theta = np.std(x)\n",
    "    return (x - u) / theta\n",
    "\n",
    "# Normalize the fare and age columns\n",
    "fare_norm = z_Norm(fare)\n",
    "age_norm = z_Norm(age)\n",
    "fare = fare_norm\n",
    "age = age_norm\n",
    "\n",
    "print(\"Normalized ticket price and age values for the first passenger:\", fare[0], age[0])"
   ],
   "metadata": {
    "collapsed": false,
    "ExecuteTime": {
     "end_time": "2025-02-28T02:04:16.175238Z",
     "start_time": "2025-02-28T02:04:16.171058Z"
    }
   }
  },
  {
   "cell_type": "markdown",
   "source": [
    "Problem 1d"
   ],
   "metadata": {
    "collapsed": false
   }
  },
  {
   "cell_type": "code",
   "execution_count": 7,
   "outputs": [
    {
     "name": "stdout",
     "output_type": "stream",
     "text": [
      "Training X set size: 1047 samples\n",
      "Testing X set size: 262 samples\n",
      "Training y set size: 1047 samples\n",
      "Testing y set size: 262 samples\n"
     ]
    }
   ],
   "source": [
    "# Construct the feature matrix X (including pclass, sex, age, fare) and target vector y (survived)\n",
    "X = np.column_stack((pclass, sex, age, fare))\n",
    "y = survived\n",
    "\n",
    "# Randomly split the data: 80% for training and 20% for testing\n",
    "data_num = len(y)\n",
    "train_size = int(0.8 * data_num)\n",
    "random_indices = np.random.permutation(data_num)\n",
    "train_indices = random_indices[:train_size]\n",
    "test_indices = random_indices[train_size:]\n",
    "X_train = X[train_indices]\n",
    "y_train = y[train_indices]\n",
    "X_test = X[test_indices]\n",
    "y_test = y[test_indices]\n",
    "\n",
    "print(f\"Training X set size: {len(X_train)} samples\")\n",
    "print(f\"Testing X set size: {len(X_test)} samples\")\n",
    "print(f\"Training y set size: {len(y_train)} samples\")\n",
    "print(f\"Testing y set size: {len(y_test)} samples\")"
   ],
   "metadata": {
    "collapsed": false,
    "ExecuteTime": {
     "end_time": "2025-02-28T02:04:16.236640Z",
     "start_time": "2025-02-28T02:04:16.175804Z"
    }
   }
  },
  {
   "cell_type": "markdown",
   "source": [
    "Problem 1e"
   ],
   "metadata": {
    "collapsed": false
   }
  },
  {
   "cell_type": "code",
   "execution_count": 8,
   "outputs": [
    {
     "name": "stdout",
     "output_type": "stream",
     "text": [
      "Mean test accuracy: 0.732824427480916\n"
     ]
    }
   ],
   "source": [
    "# Train the logistic regression model\n",
    "clf = LogisticRegression(max_iter=1000)\n",
    "clf.fit(X_train, y_train)\n",
    "print(f'Mean test accuracy: {clf.score(X_test, y_test)}')"
   ],
   "metadata": {
    "collapsed": false,
    "ExecuteTime": {
     "end_time": "2025-02-28T02:04:16.237298Z",
     "start_time": "2025-02-28T02:04:16.179297Z"
    }
   }
  },
  {
   "cell_type": "markdown",
   "source": [
    "Problem 2"
   ],
   "metadata": {
    "collapsed": false
   }
  },
  {
   "cell_type": "code",
   "execution_count": 9,
   "outputs": [
    {
     "data": {
      "text/plain": "(2007, 2007, 3)"
     },
     "execution_count": 9,
     "metadata": {},
     "output_type": "execute_result"
    }
   ],
   "source": [
    "#Import library\n",
    "import cv2 as cv\n",
    "#Create filter matrix\n",
    "filter=np.array([[-1,-1,-1],[-1,8,-1],[-1,-1,-1]])\n",
    "input_image=cv.imread(\"Testudo.jpg\")\n",
    "#Padding, use create tmp which has same size as input image\n",
    "tmp=np.zeros((input_image.shape[0]+2,input_image.shape[1]+2,input_image.shape[2]))\n",
    "for i in range(input_image.shape[2]):\n",
    "    tmp[:,:,i]=np.pad(input_image[:,:,i],pad_width=1,constant_values=0)\n",
    "#Value input_image with padded tmp\n",
    "input_image=tmp\n",
    "np.shape(input_image)"
   ],
   "metadata": {
    "collapsed": false,
    "ExecuteTime": {
     "end_time": "2025-02-28T02:04:16.416906Z",
     "start_time": "2025-02-28T02:04:16.213099Z"
    }
   }
  },
  {
   "cell_type": "code",
   "execution_count": 10,
   "outputs": [],
   "source": [
    "#A function for compute one time convolution\n",
    "def convolution(x,y,image,filter):\n",
    "    result=np.zeros((1,1,3))\n",
    "    for i in range(image.shape[2]):\n",
    "        result[:,:,i]=np.sum(image[x-1:x+2,y-1:y+2,i].dot(filter))\n",
    "    return result"
   ],
   "metadata": {
    "collapsed": false,
    "ExecuteTime": {
     "end_time": "2025-02-28T02:04:16.419779Z",
     "start_time": "2025-02-28T02:04:16.415931Z"
    }
   }
  },
  {
   "cell_type": "code",
   "execution_count": 17,
   "outputs": [],
   "source": [
    "#Implement convolution to every pixel in the image\n",
    "tmp=np.zeros((input_image.shape[0]-2,input_image.shape[1]-2,input_image.shape[2]))\n",
    "for x in range(1,input_image.shape[0]-1):\n",
    "    for y in range(1,input_image.shape[1]-1):\n",
    "        tmp[x-1,y-1,:]=convolution(x,y,input_image,filter)\n",
    "#Flip the image vertically\n",
    "tmp=np.flip(tmp,axis=1)"
   ],
   "metadata": {
    "collapsed": false,
    "ExecuteTime": {
     "end_time": "2025-02-28T02:13:23.409268Z",
     "start_time": "2025-02-28T02:12:49.378178Z"
    }
   }
  },
  {
   "cell_type": "code",
   "execution_count": 18,
   "outputs": [
    {
     "name": "stdout",
     "output_type": "stream",
     "text": [
      "Testudo_out.jpg has been saved successfully!\n"
     ]
    }
   ],
   "source": [
    "#Save the image to disk\n",
    "if cv.imwrite(\"Testudo_out.jpg\",tmp[:,:,1]):\n",
    "    print(\"Testudo_out.jpg has been saved successfully!\")"
   ],
   "metadata": {
    "collapsed": false,
    "ExecuteTime": {
     "end_time": "2025-02-28T02:13:39.029720Z",
     "start_time": "2025-02-28T02:13:38.922917Z"
    }
   }
  },
  {
   "cell_type": "markdown",
   "source": [
    "Problem 3"
   ],
   "metadata": {
    "collapsed": false
   }
  },
  {
   "cell_type": "code",
   "execution_count": 13,
   "outputs": [],
   "source": [
    "# Define the XOR input values (all possible combinations of 2 binary inputs)\n",
    "x1 = int(input(\"input the first bit (0 or 1): \"))\n",
    "x2 = int(input(\"input the second bit (0 or 1): \"))\n",
    "X=np.array([[x1,x2]])"
   ],
   "metadata": {
    "collapsed": false,
    "ExecuteTime": {
     "end_time": "2025-02-28T02:04:56.300775Z",
     "start_time": "2025-02-28T02:04:50.258427Z"
    }
   }
  },
  {
   "cell_type": "code",
   "execution_count": 14,
   "outputs": [],
   "source": [
    "# A copy of the given code\n",
    "W1=np.array([[1,-1],\n",
    "             [-1,1]])\n",
    "b1=np.array([[0,0]])\n",
    "W2=np.array([[1],\n",
    "             [1]])\n",
    "b2=np.array([[-0.5]])\n",
    "def relu(x):\n",
    "    return np.maximum(0,x)\n",
    "def sigmoid(x):\n",
    "    return 1/(1+np.exp(-x))"
   ],
   "metadata": {
    "collapsed": false,
    "ExecuteTime": {
     "end_time": "2025-02-28T02:04:56.301107Z",
     "start_time": "2025-02-28T02:04:56.287181Z"
    }
   }
  },
  {
   "cell_type": "code",
   "execution_count": 15,
   "outputs": [],
   "source": [
    "# Calculate dot products and apply functions\n",
    "H=X.dot(W1)+b1\n",
    "Y=relu(H).dot(W2)+b2\n",
    "output=sigmoid(Y)"
   ],
   "metadata": {
    "collapsed": false,
    "ExecuteTime": {
     "end_time": "2025-02-28T02:04:56.301176Z",
     "start_time": "2025-02-28T02:04:56.292430Z"
    }
   }
  },
  {
   "cell_type": "code",
   "execution_count": 16,
   "outputs": [
    {
     "name": "stdout",
     "output_type": "stream",
     "text": [
      "XOR outcome of (1, 1) is 0\n"
     ]
    }
   ],
   "source": [
    "print(f\"XOR outcome of ({x1}, {x2}) is {round(output[0,0])}\")"
   ],
   "metadata": {
    "collapsed": false,
    "ExecuteTime": {
     "end_time": "2025-02-28T02:04:56.301485Z",
     "start_time": "2025-02-28T02:04:56.297520Z"
    }
   }
  }
 ],
 "metadata": {
  "kernelspec": {
   "display_name": "Python 3",
   "language": "python",
   "name": "python3"
  },
  "language_info": {
   "codemirror_mode": {
    "name": "ipython",
    "version": 2
   },
   "file_extension": ".py",
   "mimetype": "text/x-python",
   "name": "python",
   "nbconvert_exporter": "python",
   "pygments_lexer": "ipython2",
   "version": "2.7.6"
  }
 },
 "nbformat": 4,
 "nbformat_minor": 0
}
